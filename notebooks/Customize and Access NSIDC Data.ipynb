{
 "cells": [
  {
   "cell_type": "markdown",
   "metadata": {},
   "source": [
    "# Customize and Access NSIDC DAAC Data\n",
    "\n",
    "This notebook will walk you through how to programmatically access data from the NASA National Snow and Ice Data Center Distributed Active Archive Center (NSIDC DAAC) using spatial and temporal filters, as well as how to request customization services including subsetting, reformatting, and reprojection. No Python experience is necessary; each code cell will prompt you with the information needed to configure your data request. The notebook will print the resulting API command that can be used in a command line, browser, or in Python as executed below."
   ]
  },
  {
   "cell_type": "markdown",
   "metadata": {},
   "source": [
    "### Import packages\n"
   ]
  },
  {
   "cell_type": "code",
   "execution_count": 1,
   "metadata": {
    "collapsed": false,
    "jupyter": {
     "outputs_hidden": false
    }
   },
   "outputs": [],
   "source": [
    "import requests\n",
    "import getpass\n",
    "import socket \n",
    "import json\n",
    "import zipfile\n",
    "import io\n",
    "import math\n",
    "import os\n",
    "import shutil\n",
    "import pprint\n",
    "import re\n",
    "import time\n",
    "import geopandas as gpd\n",
    "import fiona\n",
    "import matplotlib.pyplot as plt\n",
    "# To read KML files with geopandas, we will need to enable KML support in fiona (disabled by default)\n",
    "fiona.drvsupport.supported_drivers['LIBKML'] = 'rw'\n",
    "from shapely.geometry import Polygon, mapping\n",
    "from shapely.geometry.polygon import orient\n",
    "from statistics import mean\n",
    "from requests.auth import HTTPBasicAuth\n",
    "%matplotlib inline"
   ]
  },
  {
   "cell_type": "markdown",
   "metadata": {},
   "source": [
    "### Input Earthdata Login credentials\n",
    "\n",
    "An Earthdata Login account is required to access data from the NSIDC DAAC. If you do not already have an Earthdata Login account, visit http://urs.earthdata.nasa.gov to register."
   ]
  },
  {
   "cell_type": "code",
   "execution_count": 3,
   "metadata": {},
   "outputs": [
    {
     "name": "stdin",
     "output_type": "stream",
     "text": [
      "Earthdata Login user name:  nkalauni\n"
     ]
    }
   ],
   "source": [
    "uid = input('Earthdata Login user name: ') # Enter Earthdata Login user name"
   ]
  },
  {
   "cell_type": "code",
   "execution_count": 5,
   "metadata": {},
   "outputs": [
    {
     "name": "stdin",
     "output_type": "stream",
     "text": [
      "Earthdata Login password:  ···············\n"
     ]
    }
   ],
   "source": [
    "pswd = getpass.getpass('Earthdata Login password: ') # Enter Earthdata Login password"
   ]
  },
  {
   "cell_type": "code",
   "execution_count": 6,
   "metadata": {},
   "outputs": [
    {
     "name": "stdin",
     "output_type": "stream",
     "text": [
      "Email address associated with Earthdata Login account:  075bce083.nabin@pcampus.edu.np\n"
     ]
    }
   ],
   "source": [
    "email = input('Email address associated with Earthdata Login account: ') # Enter Earthdata login email "
   ]
  },
  {
   "cell_type": "markdown",
   "metadata": {},
   "source": [
    "### Select data set and determine version number\n",
    "\n",
    "Data sets are selected by data set IDs (e.g. MOD10A1), whic are also referred to as a \"short name\". These short names are located at the top of each NSIDC data set landing page in gray above the full title."
   ]
  },
  {
   "cell_type": "code",
   "execution_count": 7,
   "metadata": {},
   "outputs": [
    {
     "name": "stdin",
     "output_type": "stream",
     "text": [
      "Input short name, e.g. ATL03, here:  MOD10_L2\n"
     ]
    }
   ],
   "source": [
    "# Input data set short name (e.g. ATL03) of interest here.\n",
    "\n",
    "short_name = input('Input short name, e.g. ATL03, here: ')"
   ]
  },
  {
   "cell_type": "code",
   "execution_count": 8,
   "metadata": {},
   "outputs": [
    {
     "name": "stdout",
     "output_type": "stream",
     "text": [
      "The most recent version of  MOD10_L2  is  61\n"
     ]
    }
   ],
   "source": [
    "# Get json response from CMR collection metadata\n",
    "\n",
    "params = {\n",
    "    'short_name': short_name\n",
    "}\n",
    "\n",
    "cmr_collections_url = 'https://cmr.earthdata.nasa.gov/search/collections.json'\n",
    "response = requests.get(cmr_collections_url, params=params)\n",
    "results = json.loads(response.content)\n",
    "\n",
    "# Find all instances of 'version_id' in metadata and print most recent version number\n",
    "\n",
    "versions = [el['version_id'] for el in results['feed']['entry']]\n",
    "latest_version = max(versions)\n",
    "print('The most recent version of ', short_name, ' is ', latest_version)"
   ]
  },
  {
   "cell_type": "markdown",
   "metadata": {},
   "source": [
    "### Select time period of interest"
   ]
  },
  {
   "cell_type": "code",
   "execution_count": 9,
   "metadata": {},
   "outputs": [
    {
     "name": "stdin",
     "output_type": "stream",
     "text": [
      "Input start date in yyyy-MM-dd format:  2005-01-01\n",
      "Input start time in HH:mm:ss format:  00:00:00\n",
      "Input end date in yyyy-MM-dd format:  2005-12-31\n",
      "Input end time in HH:mm:ss format:  00:00:00\n"
     ]
    }
   ],
   "source": [
    "#Input temporal range \n",
    "\n",
    "start_date = input('Input start date in yyyy-MM-dd format: ')\n",
    "start_time = input('Input start time in HH:mm:ss format: ')\n",
    "end_date = input('Input end date in yyyy-MM-dd format: ')\n",
    "end_time = input('Input end time in HH:mm:ss format: ')\n",
    "\n",
    "temporal = start_date + 'T' + start_time + 'Z' + ',' + end_date + 'T' + end_time + 'Z'"
   ]
  },
  {
   "cell_type": "markdown",
   "metadata": {},
   "source": [
    "### Select area of interest\n",
    "\n",
    "#### Select bounding box or shapefile entry\n",
    "\n",
    "For all data sets, you can enter a bounding box to be applied to your file search. If you are interested in ICESat-2 data, you may also apply a spatial boundary based on a vector-based spatial data file."
   ]
  },
  {
   "cell_type": "code",
   "execution_count": 10,
   "metadata": {},
   "outputs": [
    {
     "name": "stdin",
     "output_type": "stream",
     "text": [
      "Input spatial coordinates in the following order: lower left longitude,lower left latitude,upper right longitude,upper right latitude. Leave blank if you wish to provide a vector-based spatial file for ICESat-2 search and subsetting: 83.8121844009836536,28.0460341071995458,84.6916665196912959,28.9005639400959815\n"
     ]
    }
   ],
   "source": [
    "# Enter spatial coordinates in decimal degrees, with west longitude and south latitude reported as negative degrees. Do not include spaces between coordinates.\n",
    "# Example over the state of Colorado: -109,37,-102,41\n",
    "\n",
    "bounding_box = input('Input spatial coordinates in the following order: lower left longitude,lower left latitude,upper right longitude,upper right latitude. Leave blank if you wish to provide a vector-based spatial file for ICESat-2 search and subsetting:')"
   ]
  },
  {
   "cell_type": "markdown",
   "metadata": {},
   "source": [
    "#### Shapefile input for ICESat-2 search and subset\n",
    "\n",
    "For ICESat-2 data only, you may also provide a geospatial file, including Esri Shapefile or KML/KMZ, to be applied to both your file search and subsetting request. Note that currently only files containing a single shape can be applied to the search. \n",
    "\n",
    "An example shapefile 'jacobshavn_bnd.shp' is included in this repository under the Shapefile_examples folder, demonstrated below. A shapefile of Pine Island glacier ('glims_polygons.shp') is also available, which was acquired from the NSIDC Global Land Ice Measurements from Space (GLIMS) database. Direct download access available from http://www.glims.org/maps/info.html?anlys_id=528486. If you would like to use a different geospatial file, you will need to adjust the filepath in the code block below."
   ]
  },
  {
   "cell_type": "code",
   "execution_count": 12,
   "metadata": {},
   "outputs": [],
   "source": [
    "# aoi value used for filtering and subsetting logic below\n",
    "if bounding_box == '': aoi = '2'\n",
    "else: aoi = '1'\n",
    "\n",
    "if aoi == '2':\n",
    "    # Use geopandas to read in polygon file\n",
    "    # Note: a KML or geojson, or almost any other vector-based spatial data format could be substituted here.\n",
    "\n",
    "    shapefile_filepath = str(os.getcwd() + '/Shapefile-examples/Jakobshavn_bnd/jakobshavn_bnd.shp')\n",
    "\n",
    "    # Go from geopandas GeoDataFrame object to an input that is readable by CMR\n",
    "    gdf = gpd.read_file(shapefile_filepath)\n",
    "\n",
    "    # CMR polygon points need to be provided in counter-clockwise order. The last point should match the first point to close the polygon.\n",
    "    \n",
    "    # Simplify polygon for complex shapes in order to pass a reasonable request length to CMR. The larger the tolerance value, the more simplified the polygon.\n",
    "    # Orient counter-clockwise: CMR polygon points need to be provided in counter-clockwise order. The last point should match the first point to close the polygon.\n",
    "    \n",
    "    poly = orient(gdf.simplify(0.05, preserve_topology=False).loc[0],sign=1.0)\n",
    "    \n",
    "    geojson = gpd.GeoSeries(poly).to_json() # Convert to geojson\n",
    "    geojson = geojson.replace(' ', '') #remove spaces for API call\n",
    "\n",
    "    #Format dictionary to polygon coordinate pairs for CMR polygon filtering\n",
    "    polygon = ','.join([str(c) for xy in zip(*poly.exterior.coords.xy) for c in xy])\n",
    "\n",
    "    print('Simplified polygon coordinates based on shapefile input:', polygon)\n",
    "    \n",
    "    buffer = gdf.buffer(50) #create buffer for plot bounds\n",
    "    envelope = buffer.envelope  \n",
    "    bounds = envelope.bounds\n",
    "    \n",
    "    # Load \"Natural Earth” countries dataset, bundled with GeoPandas\n",
    "    world = gpd.read_file(gpd.datasets.get_path('naturalearth_lowres'))\n",
    "\n",
    "    # Overlay glacier outline\n",
    "    f, ax = plt.subplots(1, figsize=(12, 6))\n",
    "    world.plot(ax=ax, facecolor='white', edgecolor='gray')\n",
    "    gdf.plot(ax=ax, cmap='spring')\n",
    "    ax.set_ylim([bounds.miny[0], bounds.maxy[0]])\n",
    "    ax.set_xlim([bounds.minx[0], bounds.maxx[0]]);"
   ]
  },
  {
   "cell_type": "markdown",
   "metadata": {},
   "source": [
    "### Determine how many granules exist over this time and area of interest."
   ]
  },
  {
   "cell_type": "code",
   "execution_count": 13,
   "metadata": {},
   "outputs": [
    {
     "name": "stdout",
     "output_type": "stream",
     "text": [
      "There are 409 granules of MOD10_L2 version 61 over my area and time of interest.\n"
     ]
    }
   ],
   "source": [
    "# Create CMR parameters used for granule search. Modify params depending on bounding_box or polygon input.\n",
    "\n",
    "granule_search_url = 'https://cmr.earthdata.nasa.gov/search/granules'\n",
    "\n",
    "if aoi == '1':\n",
    "# bounding box input:\n",
    "    search_params = {\n",
    "    'short_name': short_name,\n",
    "    'version': latest_version,\n",
    "    'temporal': temporal,\n",
    "    'page_size': 100,\n",
    "    'page_num': 1,\n",
    "    'bounding_box': bounding_box\n",
    "    }\n",
    "else:\n",
    "    # If polygon file input:\n",
    "    search_params = {\n",
    "    'short_name': short_name,\n",
    "    'version': latest_version,\n",
    "    'temporal': temporal,\n",
    "    'page_size': 100,\n",
    "    'page_num': 1,\n",
    "    'polygon': polygon,\n",
    "    }\n",
    "\n",
    "granules = []\n",
    "headers={'Accept': 'application/json'}\n",
    "while True:\n",
    "    response = requests.get(granule_search_url, params=search_params, headers=headers)\n",
    "    results = json.loads(response.content)\n",
    "\n",
    "    if len(results['feed']['entry']) == 0:\n",
    "        # Out of results, so break out of loop\n",
    "        break\n",
    "\n",
    "    # Collect results and increment page_num\n",
    "    granules.extend(results['feed']['entry'])\n",
    "    search_params['page_num'] += 1\n",
    "\n",
    "print('There are', len(granules), 'granules of', short_name, 'version', latest_version, 'over my area and time of interest.')\n"
   ]
  },
  {
   "cell_type": "markdown",
   "metadata": {},
   "source": [
    "### Determine the average size of those granules as well as the total volume"
   ]
  },
  {
   "cell_type": "code",
   "execution_count": 14,
   "metadata": {},
   "outputs": [
    {
     "name": "stdout",
     "output_type": "stream",
     "text": [
      "The average size of each granule is 19.45 MB and the total size of all 409 granules is 7953.14 MB\n"
     ]
    }
   ],
   "source": [
    "granule_sizes = [float(granule['granule_size']) for granule in granules]\n",
    "\n",
    "print(f'The average size of each granule is {mean(granule_sizes):.2f} MB and the total size of all {len(granules)} granules is {sum(granule_sizes):.2f} MB')\n"
   ]
  },
  {
   "cell_type": "markdown",
   "metadata": {},
   "source": [
    "Note that subsetting, reformatting, or reprojecting can alter the size of the granules if those services are applied to your request."
   ]
  },
  {
   "cell_type": "markdown",
   "metadata": {},
   "source": [
    "### Select the subsetting, reformatting, and reprojection services enabled for your data set of interest."
   ]
  },
  {
   "cell_type": "markdown",
   "metadata": {},
   "source": [
    "The NSIDC DAAC supports customization services on many of our NASA Earthdata mission collections. Let's discover whether or not our data set has these services available. If services are available, we will also determine the specific service options supported for this data set and select which of these services we want to request. "
   ]
  },
  {
   "cell_type": "markdown",
   "metadata": {},
   "source": [
    "### Query the service capability endpoint to gather service information needed below"
   ]
  },
  {
   "cell_type": "code",
   "execution_count": 15,
   "metadata": {},
   "outputs": [],
   "source": [
    "# Query service capability URL \n",
    "\n",
    "from xml.etree import ElementTree as ET\n",
    "\n",
    "capability_url = f'https://n5eil02u.ecs.nsidc.org/egi/capabilities/{short_name}.{latest_version}.xml'\n",
    "\n",
    "# Create session to store cookie and pass credentials to capabilities url\n",
    "\n",
    "session = requests.session()\n",
    "s = session.get(capability_url)\n",
    "response = session.get(s.url,auth=(uid,pswd))\n",
    "\n",
    "root = ET.fromstring(response.content)\n",
    "\n",
    "#collect lists with each service option\n",
    "\n",
    "subagent = [subset_agent.attrib for subset_agent in root.iter('SubsetAgent')]\n",
    "if len(subagent) > 0 :\n",
    "\n",
    "    # variable subsetting\n",
    "    variables = [SubsetVariable.attrib for SubsetVariable in root.iter('SubsetVariable')]  \n",
    "    variables_raw = [variables[i]['value'] for i in range(len(variables))]\n",
    "    variables_join = [''.join(('/',v)) if v.startswith('/') == False else v for v in variables_raw] \n",
    "    variable_vals = [v.replace(':', '/') for v in variables_join]\n",
    "\n",
    "    # reformatting\n",
    "    formats = [Format.attrib for Format in root.iter('Format')]\n",
    "    format_vals = [formats[i]['value'] for i in range(len(formats))]\n",
    "    format_vals.remove('')\n",
    "\n",
    "    # reprojection options\n",
    "    projections = [Projection.attrib for Projection in root.iter('Projection')]"
   ]
  },
  {
   "cell_type": "markdown",
   "metadata": {},
   "source": [
    "### Select subsetting, reformatting, and reprojection service options, if available."
   ]
  },
  {
   "cell_type": "code",
   "execution_count": 16,
   "metadata": {},
   "outputs": [
    {
     "name": "stdin",
     "output_type": "stream",
     "text": [
      "Subsetting by bounding box, based on the area of interest inputted above, is available. Would you like to request this service? (y/n) y\n"
     ]
    },
    {
     "name": "stdout",
     "output_type": "stream",
     "text": [
      "These reformatting options are available: ['GeoTIFF']\n"
     ]
    },
    {
     "name": "stdin",
     "output_type": "stream",
     "text": [
      "If you would like to reformat, copy and paste the reformatting option you would like (make sure to omit quotes, e.g. GeoTIFF), otherwise leave blank. GeoTIFF\n"
     ]
    },
    {
     "name": "stdout",
     "output_type": "stream",
     "text": [
      "These reprojection options are available with your requested format: ['GEOGRAPHIC', 'UNIVERSAL TRANSVERSE MERCATOR', 'POLAR STEREOGRAPHIC', 'SINUSOIDAL']\n"
     ]
    },
    {
     "name": "stdin",
     "output_type": "stream",
     "text": [
      "If you would like to reproject, copy and paste the reprojection option you would like (make sure to omit quotes), otherwise leave blank. UNIVERSAL TRANSVERSE MERCATOR\n"
     ]
    }
   ],
   "source": [
    "#print service information depending on service availability and select service options\n",
    "    \n",
    "if len(subagent) < 1 :\n",
    "    print('No services exist for', short_name, 'version', latest_version)\n",
    "    agent = 'NO'\n",
    "    bbox = ''\n",
    "    time_var = ''\n",
    "    reformat = ''\n",
    "    projection = ''\n",
    "    projection_parameters = ''\n",
    "    coverage = ''\n",
    "    Boundingshape = ''\n",
    "else:\n",
    "    agent = ''\n",
    "    subdict = subagent[0]\n",
    "    if subdict['spatialSubsetting'] == 'true' and aoi == '1':\n",
    "        Boundingshape = ''\n",
    "        ss = input('Subsetting by bounding box, based on the area of interest inputted above, is available. Would you like to request this service? (y/n)')\n",
    "        if ss == 'y': bbox = bounding_box\n",
    "        else: bbox = '' \n",
    "    if subdict['spatialSubsettingShapefile'] == 'true' and aoi == '2':\n",
    "        bbox = ''\n",
    "        ps = input('Subsetting by geospatial file (Esri Shapefile, KML, etc.) is available. Would you like to request this service? (y/n)')\n",
    "        if ps == 'y': Boundingshape = geojson\n",
    "        else: Boundingshape = '' \n",
    "    if subdict['temporalSubsetting'] == 'true':\n",
    "        ts = input('Subsetting by time, based on the temporal range inputted above, is available. Would you like to request this service? (y/n)')\n",
    "        if ts == 'y': time_var = start_date + 'T' + start_time + ',' + end_date + 'T' + end_time \n",
    "        else: time_var = ''\n",
    "    else: time_var = ''\n",
    "    if len(format_vals) > 0 :\n",
    "        print('These reformatting options are available:', format_vals)\n",
    "        reformat = input('If you would like to reformat, copy and paste the reformatting option you would like (make sure to omit quotes, e.g. GeoTIFF), otherwise leave blank.')\n",
    "        if reformat == 'n': reformat = '' # Catch user input of 'n' instead of leaving blank\n",
    "    else: \n",
    "        reformat = ''\n",
    "        projection = ''\n",
    "        projection_parameters = ''\n",
    "    if len(projections) > 0:\n",
    "        valid_proj = [] # select reprojection options based on reformatting selection\n",
    "        for i in range(len(projections)):\n",
    "            if 'excludeFormat' in projections[i]:\n",
    "                exclformats_str = projections[i]['excludeFormat'] \n",
    "                exclformats_list = exclformats_str.split(',')\n",
    "            if ('excludeFormat' not in projections[i] or reformat not in exclformats_list) and projections[i]['value'] != 'NO_CHANGE': valid_proj.append(projections[i]['value'])\n",
    "        if len(valid_proj) > 0:\n",
    "            print('These reprojection options are available with your requested format:', valid_proj)\n",
    "            projection = input('If you would like to reproject, copy and paste the reprojection option you would like (make sure to omit quotes), otherwise leave blank.')\n",
    "            # Enter required parameters for UTM North and South\n",
    "            if projection == 'UTM NORTHERN HEMISPHERE' or projection == 'UTM SOUTHERN HEMISPHERE': \n",
    "                NZone = input('Please enter a UTM zone (1 to 60 for Northern Hemisphere; -60 to -1 for Southern Hemisphere):')\n",
    "                projection_parameters = str('NZone:' + NZone)\n",
    "            else: projection_parameters = ''\n",
    "        else: \n",
    "            print('No reprojection options are supported with your requested format')\n",
    "            projection = ''\n",
    "            projection_parameters = ''\n",
    "    else:\n",
    "        print('No reprojection options are supported with your requested format')\n",
    "        projection = ''\n",
    "        projection_parameters = ''"
   ]
  },
  {
   "cell_type": "markdown",
   "metadata": {},
   "source": [
    "Because variable subsetting can include a long list of variables to choose from, we will decide on variable subsetting separately from the service options above."
   ]
  },
  {
   "cell_type": "code",
   "execution_count": 22,
   "metadata": {},
   "outputs": [
    {
     "name": "stdin",
     "output_type": "stream",
     "text": [
      "Variable subsetting is available. Would you like to subset a selection of variables? (y/n) y\n"
     ]
    },
    {
     "name": "stdout",
     "output_type": "stream",
     "text": [
      "The MOD10_L2 variables to select from include:\n",
      "/MOD_Swath_Snow\n",
      "/MOD_Swath_Snow/NDSI\n",
      "/MOD_Swath_Snow/NDSI_Snow_Cover\n",
      "/MOD_Swath_Snow/NDSI_Snow_Cover_Algorithm_Flags_QA\n",
      "/MOD_Swath_Snow/NDSI_Snow_Cover_Basic_QA\n"
     ]
    },
    {
     "name": "stdin",
     "output_type": "stream",
     "text": [
      "If you would like to subset by variable, copy and paste the variables you would like separated by comma (be sure to remove spaces and retain all forward slashes:  /MOD_Swath_Snow\n"
     ]
    }
   ],
   "source": [
    "# Select variable subsetting\n",
    "\n",
    "if len(subagent) > 0 :\n",
    "    if len(variable_vals) > 0:\n",
    "        v = input('Variable subsetting is available. Would you like to subset a selection of variables? (y/n)')\n",
    "        if v == 'y':\n",
    "            print('The', short_name, 'variables to select from include:')\n",
    "            print(*variable_vals, sep = \"\\n\") \n",
    "            coverage = input('If you would like to subset by variable, copy and paste the variables you would like separated by comma (be sure to remove spaces and retain all forward slashes: ')\n",
    "        else: coverage = ''\n",
    "\n",
    "#no services selected\n",
    "if reformat == '' and projection == '' and projection_parameters == '' and coverage == '' and time_var == '' and bbox == '' and Boundingshape == '':\n",
    "    agent = 'NO'"
   ]
  },
  {
   "cell_type": "markdown",
   "metadata": {},
   "source": [
    "### Select data access configurations\n",
    "\n",
    "The data request can be accessed asynchronously or synchronously. The asynchronous option will allow concurrent requests to be queued and processed without the need for a continuous connection. Those requested orders will be delivered to the specified email address, or they can be accessed programmatically as shown below. Synchronous requests will automatically download the data as soon as processing is complete. The granule limits differ between these two options:\n",
    "\n",
    "Maximum granules per synchronous request = 100 \n",
    "\n",
    "Maximum granules per asynchronous request = 2000 \n",
    "\n",
    "We will set the access configuration depending on the number of granules requested. For requests over 2000 granules, we will produce multiple API endpoints for each 2000-granule order. Please note that synchronous requests may take a long time to complete depending on request parameters, so the number of granules may need to be adjusted if you are experiencing performance issues. The `page_size` parameter can be used to adjust this number. "
   ]
  },
  {
   "cell_type": "code",
   "execution_count": 18,
   "metadata": {},
   "outputs": [
    {
     "name": "stdout",
     "output_type": "stream",
     "text": [
      "There will be 1 total order(s) processed for our MOD10_L2 request.\n"
     ]
    }
   ],
   "source": [
    "#Set NSIDC data access base URL\n",
    "base_url = 'https://n5eil02u.ecs.nsidc.org/egi/request'\n",
    "\n",
    "#Set the request mode to asynchronous if the number of granules is over 100, otherwise synchronous is enabled by default\n",
    "if len(granules) > 100:\n",
    "    request_mode = 'async'\n",
    "    page_size = 2000\n",
    "else: \n",
    "    page_size = 100\n",
    "    request_mode = 'stream'\n",
    "\n",
    "#Determine number of orders needed for requests over 2000 granules. \n",
    "page_num = math.ceil(len(granules)/page_size)\n",
    "\n",
    "print('There will be', page_num, 'total order(s) processed for our', short_name, 'request.')"
   ]
  },
  {
   "cell_type": "markdown",
   "metadata": {},
   "source": [
    "### Create the API endpoint \n",
    "\n",
    "Programmatic API requests are formatted as HTTPS URLs that contain key-value-pairs specifying the service operations that we specified above. The following command can be executed via command line, a web browser, or in Python below. "
   ]
  },
  {
   "cell_type": "code",
   "execution_count": 19,
   "metadata": {},
   "outputs": [
    {
     "name": "stdout",
     "output_type": "stream",
     "text": [
      "https://n5eil02u.ecs.nsidc.org/egi/request?short_name=MOD10_L2&version=61&temporal=2005-01-01T00:00:00Z,2005-12-31T00:00:00Z&bounding_box=83.8121844009836536,28.0460341071995458,84.6916665196912959,28.9005639400959815&bbox=83.8121844009836536,28.0460341071995458,84.6916665196912959,28.9005639400959815&format=GeoTIFF&projection=UNIVERSAL TRANSVERSE MERCATOR&Coverage=/MOD_Swath_Snow/NDSI_Snow_Cover&page_size=2000&request_mode=async&email=075bce083.nabin@pcampus.edu.np&page_num=1\n"
     ]
    }
   ],
   "source": [
    "if aoi == '1':\n",
    "# bounding box search and subset:\n",
    "    param_dict = {'short_name': short_name, \n",
    "                  'version': latest_version, \n",
    "                  'temporal': temporal, \n",
    "                  'time': time_var, \n",
    "                  'bounding_box': bounding_box, \n",
    "                  'bbox': bbox, \n",
    "                  'format': reformat, \n",
    "                  'projection': projection, \n",
    "                  'projection_parameters': projection_parameters, \n",
    "                  'Coverage': coverage, \n",
    "                  'page_size': page_size, \n",
    "                  'request_mode': request_mode, \n",
    "                  'agent': agent, \n",
    "                  'email': email, }\n",
    "else:\n",
    "    # If polygon file input:\n",
    "    param_dict = {'short_name': short_name, \n",
    "                  'version': latest_version, \n",
    "                  'temporal': temporal, \n",
    "                  'time': time_var, \n",
    "                  'polygon': polygon,\n",
    "                  'Boundingshape': Boundingshape, \n",
    "                  'format': reformat, \n",
    "                  'projection': projection, \n",
    "                  'projection_parameters': projection_parameters, \n",
    "                  'Coverage': coverage, \n",
    "                  'page_size': page_size, \n",
    "                  'request_mode': request_mode, \n",
    "                  'agent': agent, \n",
    "                  'email': email, }\n",
    "\n",
    "#Remove blank key-value-pairs\n",
    "param_dict = {k: v for k, v in param_dict.items() if v != ''}\n",
    "\n",
    "#Convert to string\n",
    "param_string = '&'.join(\"{!s}={!r}\".format(k,v) for (k,v) in param_dict.items())\n",
    "param_string = param_string.replace(\"'\",\"\")\n",
    "\n",
    "#Print API base URL + request parameters\n",
    "endpoint_list = [] \n",
    "for i in range(page_num):\n",
    "    page_val = i + 1\n",
    "    API_request = api_request = f'{base_url}?{param_string}&page_num={page_val}'\n",
    "    endpoint_list.append(API_request)\n",
    "\n",
    "print(*endpoint_list, sep = \"\\n\") "
   ]
  },
  {
   "cell_type": "markdown",
   "metadata": {},
   "source": [
    "### Request data"
   ]
  },
  {
   "cell_type": "markdown",
   "metadata": {},
   "source": [
    "We will now download data using the Python requests library. The data will be downloaded directly to this notebook directory in a new Outputs folder. The progress of each order will be reported."
   ]
  },
  {
   "cell_type": "code",
   "execution_count": 20,
   "metadata": {},
   "outputs": [
    {
     "name": "stdout",
     "output_type": "stream",
     "text": [
      "Order:  1\n",
      "Request HTTP response:  201\n",
      "Order request URL:  https://n5eil02u.ecs.nsidc.org/egi/request?short_name=MOD10_L2&version=61&temporal=2005-01-01T00%3A00%3A00Z%2C2005-12-31T00%3A00%3A00Z&bounding_box=83.8121844009836536%2C28.0460341071995458%2C84.6916665196912959%2C28.9005639400959815&bbox=83.8121844009836536%2C28.0460341071995458%2C84.6916665196912959%2C28.9005639400959815&format=GeoTIFF&projection=UNIVERSAL+TRANSVERSE+MERCATOR&Coverage=%2FMOD_Swath_Snow%2FNDSI_Snow_Cover&page_size=2000&request_mode=async&email=075bce083.nabin%40pcampus.edu.np&page_num=1\n",
      "Order request response XML content:  b'<?xml version=\"1.0\" encoding=\"UTF-8\" standalone=\"yes\"?>\\n<eesi:agentResponse xmlns=\"\" xmlns:iesi=\"http://eosdis.nasa.gov/esi/rsp/i\" xmlns:ssw=\"http://newsroom.gsfc.nasa.gov/esi/rsp/ssw\" xmlns:eesi=\"http://eosdis.nasa.gov/esi/rsp/e\" xmlns:esi=\"http://eosdis.nasa.gov/esi/rsp\" xmlns:xsi=\"http://www.w3.org/2001/XMLSchema-instance\">\\n    <order>\\n        <orderId>5000004892858</orderId>\\n        <Instructions>You may receive an email about your order if you specified an EMAIL address. &lt;br/&gt;&lt;br/&gt;The instructions used to process this order are:  Projection=UNIVERSAL TRANSVERSE MERCATOR. Output file format=GeoTIFF. Bounding Box(es)=83.8121844009836536,28.0460341071995458,84.6916665196912959,28.9005639400959815. Band(s)=/MOD_Swath_Snow/NDSI_Snow_Cover. Granule id(s)=SC:MOD10_L2.061:186482591,SC:MOD10_L2.061:186463065,SC:MOD10_L2.061:186532018,SC:MOD10_L2.061:186528702,SC:MOD10_L2.061:186528676,SC:MOD10_L2.061:186505493,SC:MOD10_L2.061:186527928,SC:MOD10_L2.061:186510334,SC:MOD10_L2.061:186796625,SC:MOD10_L2.061:186837031,SC:MOD10_L2.061:186545632,SC:MOD10_L2.061:186553194,SC:MOD10_L2.061:186562490,SC:MOD10_L2.061:186548827,SC:MOD10_L2.061:186537818,SC:MOD10_L2.061:186549271,SC:MOD10_L2.061:186602953,SC:MOD10_L2.061:186876242,SC:MOD10_L2.061:186572494,SC:MOD10_L2.061:186629567,SC:MOD10_L2.061:186614863,SC:MOD10_L2.061:186635096,SC:MOD10_L2.061:186625571,SC:MOD10_L2.061:186617385,SC:MOD10_L2.061:186632698,SC:MOD10_L2.061:186630271,SC:MOD10_L2.061:186643298,SC:MOD10_L2.061:186629386,SC:MOD10_L2.061:187076733,SC:MOD10_L2.061:186653571,SC:MOD10_L2.061:186662112,SC:MOD10_L2.061:186665735,SC:MOD10_L2.061:186657915,SC:MOD10_L2.061:186681174,SC:MOD10_L2.061:186666762,SC:MOD10_L2.061:187077541,SC:MOD10_L2.061:186735738,SC:MOD10_L2.061:186701528,SC:MOD10_L2.061:186705237,SC:MOD10_L2.061:187199694,SC:MOD10_L2.061:186711800,SC:MOD10_L2.061:186719570,SC:MOD10_L2.061:186704057,SC:MOD10_L2.061:186719797,SC:MOD10_L2.061:186706401,SC:MOD10_L2.061:186783978,SC:MOD10_L2.061:186785625,SC:MOD10_L2.061:186785738,SC:MOD10_L2.061:186790968,SC:MOD10_L2.061:186791092,SC:MOD10_L2.061:186805619,SC:MOD10_L2.061:187190579,SC:MOD10_L2.061:186812253,SC:MOD10_L2.061:186814662,SC:MOD10_L2.061:186818520,SC:MOD10_L2.061:186808546,SC:MOD10_L2.061:186823590,SC:MOD10_L2.061:186815950,SC:MOD10_L2.061:186817379,SC:MOD10_L2.061:186811813,SC:MOD10_L2.061:186806857,SC:MOD10_L2.061:186865001,SC:MOD10_L2.061:186840021,SC:MOD10_L2.061:186840001,SC:MOD10_L2.061:186857133,SC:MOD10_L2.061:186851274,SC:MOD10_L2.061:186864136,SC:MOD10_L2.061:186847903,SC:MOD10_L2.061:186867563,SC:MOD10_L2.061:187202675,SC:MOD10_L2.061:232396100,SC:MOD10_L2.061:186926082,SC:MOD10_L2.061:186887335,SC:MOD10_L2.061:186920220,SC:MOD10_L2.061:186913331,SC:MOD10_L2.061:187062332,SC:MOD10_L2.061:187071800,SC:MOD10_L2.061:187047284,SC:MOD10_L2.061:187066981,SC:MOD10_L2.061:187027009,SC:MOD10_L2.061:186994925,SC:MOD10_L2.061:186995364,SC:MOD10_L2.061:186992770,SC:MOD10_L2.061:187061902,SC:MOD10_L2.061:187106024,SC:MOD10_L2.061:187082943,SC:MOD10_L2.061:187094214,SC:MOD10_L2.061:187102380,SC:MOD10_L2.061:187103029,SC:MOD10_L2.061:187105047,SC:MOD10_L2.061:187098902,SC:MOD10_L2.061:187103108,SC:MOD10_L2.061:187107022,SC:MOD10_L2.061:187087974,SC:MOD10_L2.061:187158354,SC:MOD10_L2.061:187088342,SC:MOD10_L2.061:187146547,SC:MOD10_L2.061:187127613,SC:MOD10_L2.061:187129964,SC:MOD10_L2.061:187140883,SC:MOD10_L2.061:187130482,SC:MOD10_L2.061:232396054,SC:MOD10_L2.061:187189241,SC:MOD10_L2.061:187178815,SC:MOD10_L2.061:187596919,SC:MOD10_L2.061:187558074,SC:MOD10_L2.061:187211382,SC:MOD10_L2.061:187235395,SC:MOD10_L2.061:187230668,SC:MOD10_L2.061:187227375,SC:MOD10_L2.061:187232361,SC:MOD10_L2.061:187235709,SC:MOD10_L2.061:187237040,SC:MOD10_L2.061:187228145,SC:MOD10_L2.061:187221912,SC:MOD10_L2.061:187312848,SC:MOD10_L2.061:187257662,SC:MOD10_L2.061:187254175,SC:MOD10_L2.061:187259909,SC:MOD10_L2.061:187278188,SC:MOD10_L2.061:187275194,SC:MOD10_L2.061:187283470,SC:MOD10_L2.061:187266634,SC:MOD10_L2.061:187273465,SC:MOD10_L2.061:187311556,SC:MOD10_L2.061:187287010,SC:MOD10_L2.061:187289856,SC:MOD10_L2.061:187314680,SC:MOD10_L2.061:187307183,SC:MOD10_L2.061:187314638,SC:MOD10_L2.061:187315727,SC:MOD10_L2.061:187298256,SC:MOD10_L2.061:187323101,SC:MOD10_L2.061:187326835,SC:MOD10_L2.061:187300889,SC:MOD10_L2.061:187349850,SC:MOD10_L2.061:187345561,SC:MOD10_L2.061:187327622,SC:MOD10_L2.061:187352016,SC:MOD10_L2.061:187328962,SC:MOD10_L2.061:187333691,SC:MOD10_L2.061:187336183,SC:MOD10_L2.061:187704171,SC:MOD10_L2.061:187373928,SC:MOD10_L2.061:187704284,SC:MOD10_L2.061:187685274,SC:MOD10_L2.061:187429644,SC:MOD10_L2.061:187431571,SC:MOD10_L2.061:187431674,SC:MOD10_L2.061:187707047,SC:MOD10_L2.061:187429926,SC:MOD10_L2.061:187436411,SC:MOD10_L2.061:187412595,SC:MOD10_L2.061:187429970,SC:MOD10_L2.061:187433867,SC:MOD10_L2.061:187439369,SC:MOD10_L2.061:187483587,SC:MOD10_L2.061:187504394,SC:MOD10_L2.061:187509276,SC:MOD10_L2.061:187514212,SC:MOD10_L2.061:187786259,SC:MOD10_L2.061:187541062,SC:MOD10_L2.061:187537380,SC:MOD10_L2.061:187783283,SC:MOD10_L2.061:187543968,SC:MOD10_L2.061:187549089,SC:MOD10_L2.061:187545948,SC:MOD10_L2.061:187555326,SC:MOD10_L2.061:187553775,SC:MOD10_L2.061:187531486,SC:MOD10_L2.061:187535090,SC:MOD10_L2.061:187546433,SC:MOD10_L2.061:187554059,SC:MOD10_L2.061:187555686,SC:MOD10_L2.061:187548658,SC:MOD10_L2.061:187541000,SC:MOD10_L2.061:187529261,SC:MOD10_L2.061:187783243,SC:MOD10_L2.061:187828523,SC:MOD10_L2.061:187821017,SC:MOD10_L2.061:187590457,SC:MOD10_L2.061:187577469,SC:MOD10_L2.061:187653923,SC:MOD10_L2.061:187664600,SC:MOD10_L2.061:187642795,SC:MOD10_L2.061:187655210,SC:MOD10_L2.061:187666155,SC:MOD10_L2.061:187647619,SC:MOD10_L2.061:187659583,SC:MOD10_L2.061:187652245,SC:MOD10_L2.061:187679803,SC:MOD10_L2.061:187870425,SC:MOD10_L2.061:187678114,SC:MOD10_L2.061:187996001,SC:MOD10_L2.061:187697414,SC:MOD10_L2.061:187684088,SC:MOD10_L2.061:187678330,SC:MOD10_L2.061:187796075,SC:MOD10_L2.061:187926562,SC:MOD10_L2.061:187952581,SC:MOD10_L2.061:187956079,SC:MOD10_L2.061:187931103,SC:MOD10_L2.061:187956111,SC:MOD10_L2.061:187957955,SC:MOD10_L2.061:187934066,SC:MOD10_L2.061:187975954,SC:MOD10_L2.061:188185905,SC:MOD10_L2.061:187994094,SC:MOD10_L2.061:187985910,SC:MOD10_L2.061:187971597,SC:MOD10_L2.061:187972652,SC:MOD10_L2.061:187972857,SC:MOD10_L2.061:187984957,SC:MOD10_L2.061:187993748,SC:MOD10_L2.061:188404967,SC:MOD10_L2.061:188017871,SC:MOD10_L2.061:188033993,SC:MOD10_L2.061:188049529,SC:MOD10_L2.061:188041867,SC:MOD10_L2.061:188057945,SC:MOD10_L2.061:188068852,SC:MOD10_L2.061:188071222,SC:MOD10_L2.061:188087709,SC:MOD10_L2.061:188095927,SC:MOD10_L2.061:188076234,SC:MOD10_L2.061:188076063,SC:MOD10_L2.061:188080279,SC:MOD10_L2.061:188098008,SC:MOD10_L2.061:188141604,SC:MOD10_L2.061:188096932,SC:MOD10_L2.061:188100188,SC:MOD10_L2.061:188130698,SC:MOD10_L2.061:188396448,SC:MOD10_L2.061:188108963,SC:MOD10_L2.061:188137930,SC:MOD10_L2.061:188111014,SC:MOD10_L2.061:188104512,SC:MOD10_L2.061:188132206,SC:MOD10_L2.061:188131754,SC:MOD10_L2.061:188125488,SC:MOD10_L2.061:188122584,SC:MOD10_L2.061:188122724,SC:MOD10_L2.061:188463829,SC:MOD10_L2.061:188182599,SC:MOD10_L2.061:188160901,SC:MOD10_L2.061:188161066,SC:MOD10_L2.061:188174659,SC:MOD10_L2.061:188164747,SC:MOD10_L2.061:188174735,SC:MOD10_L2.061:188152386,SC:MOD10_L2.061:188147675,SC:MOD10_L2.061:188173361,SC:MOD10_L2.061:188150329,SC:MOD10_L2.061:188180652,SC:MOD10_L2.061:188175213,SC:MOD10_L2.061:188182411,SC:MOD10_L2.061:188215126,SC:MOD10_L2.061:188486168,SC:MOD10_L2.061:188212731,SC:MOD10_L2.061:188230134,SC:MOD10_L2.061:188188524,SC:MOD10_L2.061:188219357,SC:MOD10_L2.061:188230912,SC:MOD10_L2.061:188206615,SC:MOD10_L2.061:188189878,SC:MOD10_L2.061:188236694,SC:MOD10_L2.061:188357104,SC:MOD10_L2.061:188238953,SC:MOD10_L2.061:188497298,SC:MOD10_L2.061:188491125,SC:MOD10_L2.061:188510286,SC:MOD10_L2.061:188508365,SC:MOD10_L2.061:188495914,SC:MOD10_L2.061:188510459,SC:MOD10_L2.061:188499518,SC:MOD10_L2.061:188483802,SC:MOD10_L2.061:188538014,SC:MOD10_L2.061:188541625,SC:MOD10_L2.061:188742819,SC:MOD10_L2.061:188547834,SC:MOD10_L2.061:188541063,SC:MOD10_L2.061:188539030,SC:MOD10_L2.061:188524972,SC:MOD10_L2.061:188523409,SC:MOD10_L2.061:188547584,SC:MOD10_L2.061:188541498,SC:MOD10_L2.061:188610695,SC:MOD10_L2.061:188610805,SC:MOD10_L2.061:188616909,SC:MOD10_L2.061:188592273,SC:MOD10_L2.061:188604450,SC:MOD10_L2.061:188605159,SC:MOD10_L2.061:188618517,SC:MOD10_L2.061:188608192,SC:MOD10_L2.061:188599909,SC:MOD10_L2.061:188623875,SC:MOD10_L2.061:188603505,SC:MOD10_L2.061:188654001,SC:MOD10_L2.061:188686266,SC:MOD10_L2.061:188649433,SC:MOD10_L2.061:188639700,SC:MOD10_L2.061:188647882,SC:MOD10_L2.061:188656046,SC:MOD10_L2.061:188631297,SC:MOD10_L2.061:188691447,SC:MOD10_L2.061:188687533,SC:MOD10_L2.061:188888755,SC:MOD10_L2.061:188672160,SC:MOD10_L2.061:188721644,SC:MOD10_L2.061:188922283,SC:MOD10_L2.061:188714078,SC:MOD10_L2.061:188710402,SC:MOD10_L2.061:188710538,SC:MOD10_L2.061:188701387,SC:MOD10_L2.061:188725562,SC:MOD10_L2.061:188716480,SC:MOD10_L2.061:188709903,SC:MOD10_L2.061:188724837,SC:MOD10_L2.061:189065016,SC:MOD10_L2.061:188765258,SC:MOD10_L2.061:188771383,SC:MOD10_L2.061:188746783,SC:MOD10_L2.061:188746868,SC:MOD10_L2.061:188764867,SC:MOD10_L2.061:188745265,SC:MOD10_L2.061:188742481,SC:MOD10_L2.061:188757152,SC:MOD10_L2.061:188778189,SC:MOD10_L2.061:188924181,SC:MOD10_L2.061:188932345,SC:MOD10_L2.061:188779352,SC:MOD10_L2.061:188801774,SC:MOD10_L2.061:188876197,SC:MOD10_L2.061:188866543,SC:MOD10_L2.061:188885816,SC:MOD10_L2.061:188883418,SC:MOD10_L2.061:188873562,SC:MOD10_L2.061:188884632,SC:MOD10_L2.061:188854184,SC:MOD10_L2.061:188857645,SC:MOD10_L2.061:188871985,SC:MOD10_L2.061:188852729,SC:MOD10_L2.061:188921012,SC:MOD10_L2.061:188919996,SC:MOD10_L2.061:188907628,SC:MOD10_L2.061:188915245,SC:MOD10_L2.061:188901735,SC:MOD10_L2.061:188895033,SC:MOD10_L2.061:188907084,SC:MOD10_L2.061:188892987,SC:MOD10_L2.061:188912750,SC:MOD10_L2.061:188922115,SC:MOD10_L2.061:188905518,SC:MOD10_L2.061:188958655,SC:MOD10_L2.061:188958659,SC:MOD10_L2.061:188954823,SC:MOD10_L2.061:188940413,SC:MOD10_L2.061:188942860,SC:MOD10_L2.061:189228502,SC:MOD10_L2.061:189035789,SC:MOD10_L2.061:189036072,SC:MOD10_L2.061:189036262,SC:MOD10_L2.061:189039424,SC:MOD10_L2.061:189024448,SC:MOD10_L2.061:189048903,SC:MOD10_L2.061:189048942,SC:MOD10_L2.061:189046638,SC:MOD10_L2.061:189057828,SC:MOD10_L2.061:189108248,SC:MOD10_L2.061:189083499,SC:MOD10_L2.061:189070801,SC:MOD10_L2.061:189091170,SC:MOD10_L2.061:189098259,SC:MOD10_L2.061:189082380,SC:MOD10_L2.061:189096254,SC:MOD10_L2.061:189080288,SC:MOD10_L2.061:189085221,SC:MOD10_L2.061:189269351,SC:MOD10_L2.061:189144903,SC:MOD10_L2.061:189146662,SC:MOD10_L2.061:189473027,SC:MOD10_L2.061:189128031,SC:MOD10_L2.061:189116431,SC:MOD10_L2.061:189142288,SC:MOD10_L2.061:189145369,SC:MOD10_L2.061:189119320,SC:MOD10_L2.061:189114469,SC:MOD10_L2.061:189144588,SC:MOD10_L2.061:189129291,SC:MOD10_L2.061:189345862,SC:MOD10_L2.061:189174441,SC:MOD10_L2.061:189186225,SC:MOD10_L2.061:189183256,SC:MOD10_L2.061:189176646,SC:MOD10_L2.061:189165057,SC:MOD10_L2.061:189172103,SC:MOD10_L2.061:189172224,SC:MOD10_L2.061:189175540,SC:MOD10_L2.061:189194100,SC:MOD10_L2.061:189238842,SC:MOD10_L2.061:189266648,SC:MOD10_L2.061:189251172,SC:MOD10_L2.061:189258680,SC:MOD10_L2.061:189251385,SC:MOD10_L2.061:189260397,SC:MOD10_L2.061:189270927,SC:MOD10_L2.061:189259541,SC:MOD10_L2.061:189294430,SC:MOD10_L2.061:189470213. Email address=075bce083.nabin@pcampus.edu.np. Processing tool=HEG.</Instructions>\\n    </order>\\n    <contactInformation>\\n        <contactName>NSIDC User Services</contactName>\\n        <contactEmail>nsidc@nsidc.org</contactEmail>\\n    </contactInformation>\\n    <processInfo>\\n        <processDuration>P0Y0M0DT0H0M1.161S</processDuration>\\n        <subagentId>HEG</subagentId>\\n    </processInfo>\\n    <requestStatus>\\n        <status>processing</status>\\n        <numberProcessed>0</numberProcessed>\\n        <totalNumber>409</totalNumber>\\n    </requestStatus>\\n</eesi:agentResponse>\\n'\n",
      "order ID:  5000004892858\n",
      "status URL:  https://n5eil02u.ecs.nsidc.org/egi/request/5000004892858\n",
      "HTTP response from order response URL:  201\n",
      "Data request  1  is submitting...\n",
      "Initial request status is  processing\n",
      "Status is not complete. Trying again.\n",
      "Retry request status is:  processing\n",
      "Status is not complete. Trying again.\n",
      "Retry request status is:  processing\n",
      "Status is not complete. Trying again.\n",
      "Retry request status is:  processing\n",
      "Status is not complete. Trying again.\n",
      "Retry request status is:  processing\n",
      "Status is not complete. Trying again.\n",
      "Retry request status is:  processing\n",
      "Status is not complete. Trying again.\n",
      "Retry request status is:  processing\n",
      "Status is not complete. Trying again.\n",
      "Retry request status is:  processing\n",
      "Status is not complete. Trying again.\n",
      "Retry request status is:  processing\n",
      "Status is not complete. Trying again.\n",
      "Retry request status is:  complete\n",
      "Zip download URL:  https://n5eil02u.ecs.nsidc.org/esir/5000004892858.zip\n",
      "Beginning download of zipped output...\n",
      "Data request 1 is complete.\n"
     ]
    }
   ],
   "source": [
    "# Create an output folder if the folder does not already exist.\n",
    "\n",
    "path = str(os.getcwd() + '/Outputs')\n",
    "if not os.path.exists(path):\n",
    "    os.mkdir(path)\n",
    "\n",
    "# Different access methods depending on request mode:\n",
    "\n",
    "if request_mode=='async':\n",
    "    # Request data service for each page number, and unzip outputs\n",
    "    for i in range(page_num):\n",
    "        page_val = i + 1\n",
    "        print('Order: ', page_val)\n",
    "\n",
    "    # For all requests other than spatial file upload, use get function\n",
    "        param_dict['page_num'] = page_val\n",
    "        request = session.get(base_url, params=param_dict)\n",
    "\n",
    "        print('Request HTTP response: ', request.status_code)\n",
    "\n",
    "    # Raise bad request: Loop will stop for bad response code.\n",
    "        request.raise_for_status()\n",
    "        print('Order request URL: ', request.url)\n",
    "        esir_root = ET.fromstring(request.content)\n",
    "        print('Order request response XML content: ', request.content)\n",
    "\n",
    "    #Look up order ID\n",
    "        orderlist = []   \n",
    "        for order in esir_root.findall(\"./order/\"):\n",
    "            orderlist.append(order.text)\n",
    "        orderID = orderlist[0]\n",
    "        print('order ID: ', orderID)\n",
    "\n",
    "    #Create status URL\n",
    "        statusURL = base_url + '/' + orderID\n",
    "        print('status URL: ', statusURL)\n",
    "\n",
    "    #Find order status\n",
    "        request_response = session.get(statusURL)    \n",
    "        print('HTTP response from order response URL: ', request_response.status_code)\n",
    "\n",
    "    # Raise bad request: Loop will stop for bad response code.\n",
    "        request_response.raise_for_status()\n",
    "        request_root = ET.fromstring(request_response.content)\n",
    "        statuslist = []\n",
    "        for status in request_root.findall(\"./requestStatus/\"):\n",
    "            statuslist.append(status.text)\n",
    "        status = statuslist[0]\n",
    "        print('Data request ', page_val, ' is submitting...')\n",
    "        print('Initial request status is ', status)\n",
    "\n",
    "    #Continue loop while request is still processing\n",
    "        while status == 'pending' or status == 'processing': \n",
    "            print('Status is not complete. Trying again.')\n",
    "            time.sleep(10)\n",
    "            loop_response = session.get(statusURL)\n",
    "\n",
    "    # Raise bad request: Loop will stop for bad response code.\n",
    "            loop_response.raise_for_status()\n",
    "            loop_root = ET.fromstring(loop_response.content)\n",
    "\n",
    "    #find status\n",
    "            statuslist = []\n",
    "            for status in loop_root.findall(\"./requestStatus/\"):\n",
    "                statuslist.append(status.text)\n",
    "            status = statuslist[0]\n",
    "            print('Retry request status is: ', status)\n",
    "            if status == 'pending' or status == 'processing':\n",
    "                continue\n",
    "\n",
    "    #Order can either complete, complete_with_errors, or fail:\n",
    "    # Provide complete_with_errors error message:\n",
    "        if status == 'complete_with_errors' or status == 'failed':\n",
    "            messagelist = []\n",
    "            for message in loop_root.findall(\"./processInfo/\"):\n",
    "                messagelist.append(message.text)\n",
    "            print('error messages:')\n",
    "            pprint.pprint(messagelist)\n",
    "\n",
    "    # Download zipped order if status is complete or complete_with_errors\n",
    "        if status == 'complete' or status == 'complete_with_errors':\n",
    "            downloadURL = 'https://n5eil02u.ecs.nsidc.org/esir/' + orderID + '.zip'\n",
    "            print('Zip download URL: ', downloadURL)\n",
    "            print('Beginning download of zipped output...')\n",
    "            zip_response = session.get(downloadURL)\n",
    "            # Raise bad request: Loop will stop for bad response code.\n",
    "            zip_response.raise_for_status()\n",
    "            with zipfile.ZipFile(io.BytesIO(zip_response.content)) as z:\n",
    "                z.extractall(path)\n",
    "            print('Data request', page_val, 'is complete.')\n",
    "        else: print('Request failed.')\n",
    "            \n",
    "else:\n",
    "    for i in range(page_num):\n",
    "        page_val = i + 1\n",
    "        print('Order: ', page_val)\n",
    "        print('Requesting...')\n",
    "        request = session.get(base_url, params=param_dict)\n",
    "        print('HTTP response from order response URL: ', request.status_code)\n",
    "        request.raise_for_status()\n",
    "        d = request.headers['content-disposition']\n",
    "        fname = re.findall('filename=(.+)', d)\n",
    "        dirname = os.path.join(path,fname[0].strip('\\\"'))\n",
    "        print('Downloading...')\n",
    "        open(dirname, 'wb').write(request.content)\n",
    "        print('Data request', page_val, 'is complete.')\n",
    "    \n",
    "    # Unzip outputs\n",
    "    for z in os.listdir(path): \n",
    "        if z.endswith('.zip'): \n",
    "            zip_name = path + \"/\" + z \n",
    "            zip_ref = zipfile.ZipFile(zip_name) \n",
    "            zip_ref.extractall(path) \n",
    "            zip_ref.close() \n",
    "            os.remove(zip_name) \n"
   ]
  },
  {
   "cell_type": "markdown",
   "metadata": {},
   "source": [
    "### Finally, we will clean up the Output folder by removing individual order folders:"
   ]
  },
  {
   "cell_type": "code",
   "execution_count": 21,
   "metadata": {},
   "outputs": [],
   "source": [
    "# Clean up Outputs folder by removing individual granule folders \n",
    "\n",
    "for root, dirs, files in os.walk(path, topdown=False):\n",
    "    for file in files:\n",
    "        try:\n",
    "            shutil.move(os.path.join(root, file), path)\n",
    "        except OSError:\n",
    "            pass\n",
    "    for name in dirs:\n",
    "        os.rmdir(os.path.join(root, name))    "
   ]
  },
  {
   "cell_type": "markdown",
   "metadata": {},
   "source": [
    "### To review, we have explored data availability and volume over a region and time of interest, discovered and selected data customization options, constructed an API endpoint for our request, and downloaded data directly to our local machine. You are welcome to request different data sets, areas of interest, and/or customization services by re-running the notebook or starting again at the 'Select a data set of interest' step above. "
   ]
  }
 ],
 "metadata": {
  "kernelspec": {
   "display_name": "Python 3 (ipykernel)",
   "language": "python",
   "name": "python3"
  },
  "language_info": {
   "codemirror_mode": {
    "name": "ipython",
    "version": 3
   },
   "file_extension": ".py",
   "mimetype": "text/x-python",
   "name": "python",
   "nbconvert_exporter": "python",
   "pygments_lexer": "ipython3",
   "version": "3.7.3"
  }
 },
 "nbformat": 4,
 "nbformat_minor": 4
}
